{
  "cells": [
    {
      "cell_type": "markdown",
      "metadata": {
        "id": "view-in-github",
        "colab_type": "text"
      },
      "source": [
        "<a href=\"https://colab.research.google.com/github/atstuyuki/mediapipe/blob/main/mediapipe_throwing2D3D_toCSV20220925.ipynb\" target=\"_parent\"><img src=\"https://colab.research.google.com/assets/colab-badge.svg\" alt=\"Open In Colab\"/></a>"
      ]
    },
    {
      "cell_type": "markdown",
      "metadata": {
        "id": "D2PlazN5Q94l"
      },
      "source": [
        "\n",
        "# セットアップ"
      ]
    },
    {
      "cell_type": "markdown",
      "source": [
        "#両肩関節中心と両肩関節の中心座標を結ぶ線を体軸線を体軸線として算出したプログラム"
      ],
      "metadata": {
        "id": "p0l1SJb5mw2G"
      }
    },
    {
      "cell_type": "markdown",
      "source": [],
      "metadata": {
        "id": "RSDQ1Dy1qeXY"
      }
    },
    {
      "cell_type": "code",
      "source": [
        "#google driveのマウント\n",
        "'''from google.colab import drive\n",
        "drive.mount('/content/drive')'''"
      ],
      "metadata": {
        "id": "XLmTsX2pCRAy",
        "colab": {
          "base_uri": "https://localhost:8080/",
          "height": 36
        },
        "outputId": "bf633d76-4025-4e8a-dabb-6c543cd43420"
      },
      "execution_count": null,
      "outputs": [
        {
          "output_type": "execute_result",
          "data": {
            "text/plain": [
              "\"from google.colab import drive\\ndrive.mount('/content/drive')\""
            ],
            "application/vnd.google.colaboratory.intrinsic+json": {
              "type": "string"
            }
          },
          "metadata": {},
          "execution_count": 1
        }
      ]
    },
    {
      "cell_type": "markdown",
      "source": [
        "#誤検出が多かったので、min_detection_confidence　0.8に変更"
      ],
      "metadata": {
        "id": "ZyZePVZq9-6o"
      }
    },
    {
      "cell_type": "markdown",
      "source": [],
      "metadata": {
        "id": "2WbLwyY29-3q"
      }
    },
    {
      "cell_type": "code",
      "execution_count": 1,
      "metadata": {
        "id": "BboTB-FAMfPo",
        "colab": {
          "base_uri": "https://localhost:8080/",
          "height": 729
        },
        "outputId": "b8d5b6eb-c70d-40c0-df99-45d77664fa26"
      },
      "outputs": [
        {
          "output_type": "stream",
          "name": "stdout",
          "text": [
            "Looking in indexes: https://pypi.org/simple, https://us-python.pkg.dev/colab-wheels/public/simple/\n",
            "Collecting numpy==1.19.3\n",
            "  Downloading numpy-1.19.3-cp37-cp37m-manylinux2010_x86_64.whl (14.9 MB)\n",
            "\u001b[K     |████████████████████████████████| 14.9 MB 14.9 MB/s \n",
            "\u001b[?25hInstalling collected packages: numpy\n",
            "  Attempting uninstall: numpy\n",
            "    Found existing installation: numpy 1.21.6\n",
            "    Uninstalling numpy-1.21.6:\n",
            "      Successfully uninstalled numpy-1.21.6\n",
            "\u001b[31mERROR: pip's dependency resolver does not currently take into account all the packages that are installed. This behaviour is the source of the following dependency conflicts.\n",
            "xarray-einstats 0.2.2 requires numpy>=1.21, but you have numpy 1.19.3 which is incompatible.\n",
            "tensorflow 2.8.2+zzzcolab20220719082949 requires numpy>=1.20, but you have numpy 1.19.3 which is incompatible.\n",
            "jax 0.3.17 requires numpy>=1.20, but you have numpy 1.19.3 which is incompatible.\n",
            "cmdstanpy 1.0.7 requires numpy>=1.21, but you have numpy 1.19.3 which is incompatible.\u001b[0m\n",
            "Successfully installed numpy-1.19.3\n"
          ]
        },
        {
          "output_type": "display_data",
          "data": {
            "application/vnd.colab-display-data+json": {
              "pip_warning": {
                "packages": [
                  "numpy"
                ]
              }
            }
          },
          "metadata": {}
        },
        {
          "output_type": "stream",
          "name": "stdout",
          "text": [
            "Looking in indexes: https://pypi.org/simple, https://us-python.pkg.dev/colab-wheels/public/simple/\n",
            "Collecting mediapipe\n",
            "  Downloading mediapipe-0.8.11-cp37-cp37m-manylinux_2_17_x86_64.manylinux2014_x86_64.whl (31.5 MB)\n",
            "\u001b[K     |████████████████████████████████| 31.5 MB 106 kB/s \n",
            "\u001b[?25hRequirement already satisfied: absl-py in /usr/local/lib/python3.7/dist-packages (from mediapipe) (1.2.0)\n",
            "Requirement already satisfied: opencv-contrib-python in /usr/local/lib/python3.7/dist-packages (from mediapipe) (4.6.0.66)\n",
            "Requirement already satisfied: matplotlib in /usr/local/lib/python3.7/dist-packages (from mediapipe) (3.2.2)\n",
            "Requirement already satisfied: numpy in /usr/local/lib/python3.7/dist-packages (from mediapipe) (1.19.3)\n",
            "Requirement already satisfied: protobuf<4,>=3.11 in /usr/local/lib/python3.7/dist-packages (from mediapipe) (3.17.3)\n",
            "Requirement already satisfied: attrs>=19.1.0 in /usr/local/lib/python3.7/dist-packages (from mediapipe) (22.1.0)\n",
            "Requirement already satisfied: six>=1.9 in /usr/local/lib/python3.7/dist-packages (from protobuf<4,>=3.11->mediapipe) (1.15.0)\n",
            "Requirement already satisfied: kiwisolver>=1.0.1 in /usr/local/lib/python3.7/dist-packages (from matplotlib->mediapipe) (1.4.4)\n",
            "Requirement already satisfied: python-dateutil>=2.1 in /usr/local/lib/python3.7/dist-packages (from matplotlib->mediapipe) (2.8.2)\n",
            "Requirement already satisfied: cycler>=0.10 in /usr/local/lib/python3.7/dist-packages (from matplotlib->mediapipe) (0.11.0)\n",
            "Requirement already satisfied: pyparsing!=2.0.4,!=2.1.2,!=2.1.6,>=2.0.1 in /usr/local/lib/python3.7/dist-packages (from matplotlib->mediapipe) (3.0.9)\n",
            "Requirement already satisfied: typing-extensions in /usr/local/lib/python3.7/dist-packages (from kiwisolver>=1.0.1->matplotlib->mediapipe) (4.1.1)\n",
            "Installing collected packages: mediapipe\n",
            "Successfully installed mediapipe-0.8.11\n"
          ]
        }
      ],
      "source": [
        "# ライブラリーのインストール\n",
        "!pip install numpy==1.19.3\n",
        "!pip install mediapipe\n",
        "# 初期設定 holistic とPoseを用意する　検出感度は0.5＞＞変更可能\n",
        "import mediapipe as mp\n",
        "import cv2\n",
        "mp_holistic = mp.solutions.holistic\n",
        "mp_pose = mp.solutions.pose\n",
        "# Initialize MediaPipe Holistic.\n",
        "holistic = mp_holistic.Holistic(\n",
        "    static_image_mode=True, min_detection_confidence=0.7)\n",
        "pose= mp_pose.Pose(\n",
        "    static_image_mode=True, min_detection_confidence=0.7)\n",
        "# Prepare DrawingSpec for drawing the face landmarks later.\n",
        "mp_drawing = mp.solutions.drawing_utils \n",
        "drawing_spec = mp_drawing.DrawingSpec(color=[225,0,200],thickness=2, circle_radius=1) #color=[B,G,R]で指定,線の太さと〇の色も指定可能"
      ]
    },
    {
      "cell_type": "code",
      "execution_count": 2,
      "metadata": {
        "colab": {
          "base_uri": "https://localhost:8080/",
          "height": 115
        },
        "id": "9G3fIZHngaYJ",
        "outputId": "dbee4321-78ce-49af-bf33-a4dadc4e3eb2"
      },
      "outputs": [
        {
          "output_type": "display_data",
          "data": {
            "text/plain": [
              "<IPython.core.display.HTML object>"
            ],
            "text/html": [
              "\n",
              "     <input type=\"file\" id=\"files-97dd7783-0dad-453c-a135-73b16b0e9c93\" name=\"files[]\" multiple disabled\n",
              "        style=\"border:none\" />\n",
              "     <output id=\"result-97dd7783-0dad-453c-a135-73b16b0e9c93\">\n",
              "      Upload widget is only available when the cell has been executed in the\n",
              "      current browser session. Please rerun this cell to enable.\n",
              "      </output>\n",
              "      <script>// Copyright 2017 Google LLC\n",
              "//\n",
              "// Licensed under the Apache License, Version 2.0 (the \"License\");\n",
              "// you may not use this file except in compliance with the License.\n",
              "// You may obtain a copy of the License at\n",
              "//\n",
              "//      http://www.apache.org/licenses/LICENSE-2.0\n",
              "//\n",
              "// Unless required by applicable law or agreed to in writing, software\n",
              "// distributed under the License is distributed on an \"AS IS\" BASIS,\n",
              "// WITHOUT WARRANTIES OR CONDITIONS OF ANY KIND, either express or implied.\n",
              "// See the License for the specific language governing permissions and\n",
              "// limitations under the License.\n",
              "\n",
              "/**\n",
              " * @fileoverview Helpers for google.colab Python module.\n",
              " */\n",
              "(function(scope) {\n",
              "function span(text, styleAttributes = {}) {\n",
              "  const element = document.createElement('span');\n",
              "  element.textContent = text;\n",
              "  for (const key of Object.keys(styleAttributes)) {\n",
              "    element.style[key] = styleAttributes[key];\n",
              "  }\n",
              "  return element;\n",
              "}\n",
              "\n",
              "// Max number of bytes which will be uploaded at a time.\n",
              "const MAX_PAYLOAD_SIZE = 100 * 1024;\n",
              "\n",
              "function _uploadFiles(inputId, outputId) {\n",
              "  const steps = uploadFilesStep(inputId, outputId);\n",
              "  const outputElement = document.getElementById(outputId);\n",
              "  // Cache steps on the outputElement to make it available for the next call\n",
              "  // to uploadFilesContinue from Python.\n",
              "  outputElement.steps = steps;\n",
              "\n",
              "  return _uploadFilesContinue(outputId);\n",
              "}\n",
              "\n",
              "// This is roughly an async generator (not supported in the browser yet),\n",
              "// where there are multiple asynchronous steps and the Python side is going\n",
              "// to poll for completion of each step.\n",
              "// This uses a Promise to block the python side on completion of each step,\n",
              "// then passes the result of the previous step as the input to the next step.\n",
              "function _uploadFilesContinue(outputId) {\n",
              "  const outputElement = document.getElementById(outputId);\n",
              "  const steps = outputElement.steps;\n",
              "\n",
              "  const next = steps.next(outputElement.lastPromiseValue);\n",
              "  return Promise.resolve(next.value.promise).then((value) => {\n",
              "    // Cache the last promise value to make it available to the next\n",
              "    // step of the generator.\n",
              "    outputElement.lastPromiseValue = value;\n",
              "    return next.value.response;\n",
              "  });\n",
              "}\n",
              "\n",
              "/**\n",
              " * Generator function which is called between each async step of the upload\n",
              " * process.\n",
              " * @param {string} inputId Element ID of the input file picker element.\n",
              " * @param {string} outputId Element ID of the output display.\n",
              " * @return {!Iterable<!Object>} Iterable of next steps.\n",
              " */\n",
              "function* uploadFilesStep(inputId, outputId) {\n",
              "  const inputElement = document.getElementById(inputId);\n",
              "  inputElement.disabled = false;\n",
              "\n",
              "  const outputElement = document.getElementById(outputId);\n",
              "  outputElement.innerHTML = '';\n",
              "\n",
              "  const pickedPromise = new Promise((resolve) => {\n",
              "    inputElement.addEventListener('change', (e) => {\n",
              "      resolve(e.target.files);\n",
              "    });\n",
              "  });\n",
              "\n",
              "  const cancel = document.createElement('button');\n",
              "  inputElement.parentElement.appendChild(cancel);\n",
              "  cancel.textContent = 'Cancel upload';\n",
              "  const cancelPromise = new Promise((resolve) => {\n",
              "    cancel.onclick = () => {\n",
              "      resolve(null);\n",
              "    };\n",
              "  });\n",
              "\n",
              "  // Wait for the user to pick the files.\n",
              "  const files = yield {\n",
              "    promise: Promise.race([pickedPromise, cancelPromise]),\n",
              "    response: {\n",
              "      action: 'starting',\n",
              "    }\n",
              "  };\n",
              "\n",
              "  cancel.remove();\n",
              "\n",
              "  // Disable the input element since further picks are not allowed.\n",
              "  inputElement.disabled = true;\n",
              "\n",
              "  if (!files) {\n",
              "    return {\n",
              "      response: {\n",
              "        action: 'complete',\n",
              "      }\n",
              "    };\n",
              "  }\n",
              "\n",
              "  for (const file of files) {\n",
              "    const li = document.createElement('li');\n",
              "    li.append(span(file.name, {fontWeight: 'bold'}));\n",
              "    li.append(span(\n",
              "        `(${file.type || 'n/a'}) - ${file.size} bytes, ` +\n",
              "        `last modified: ${\n",
              "            file.lastModifiedDate ? file.lastModifiedDate.toLocaleDateString() :\n",
              "                                    'n/a'} - `));\n",
              "    const percent = span('0% done');\n",
              "    li.appendChild(percent);\n",
              "\n",
              "    outputElement.appendChild(li);\n",
              "\n",
              "    const fileDataPromise = new Promise((resolve) => {\n",
              "      const reader = new FileReader();\n",
              "      reader.onload = (e) => {\n",
              "        resolve(e.target.result);\n",
              "      };\n",
              "      reader.readAsArrayBuffer(file);\n",
              "    });\n",
              "    // Wait for the data to be ready.\n",
              "    let fileData = yield {\n",
              "      promise: fileDataPromise,\n",
              "      response: {\n",
              "        action: 'continue',\n",
              "      }\n",
              "    };\n",
              "\n",
              "    // Use a chunked sending to avoid message size limits. See b/62115660.\n",
              "    let position = 0;\n",
              "    do {\n",
              "      const length = Math.min(fileData.byteLength - position, MAX_PAYLOAD_SIZE);\n",
              "      const chunk = new Uint8Array(fileData, position, length);\n",
              "      position += length;\n",
              "\n",
              "      const base64 = btoa(String.fromCharCode.apply(null, chunk));\n",
              "      yield {\n",
              "        response: {\n",
              "          action: 'append',\n",
              "          file: file.name,\n",
              "          data: base64,\n",
              "        },\n",
              "      };\n",
              "\n",
              "      let percentDone = fileData.byteLength === 0 ?\n",
              "          100 :\n",
              "          Math.round((position / fileData.byteLength) * 100);\n",
              "      percent.textContent = `${percentDone}% done`;\n",
              "\n",
              "    } while (position < fileData.byteLength);\n",
              "  }\n",
              "\n",
              "  // All done.\n",
              "  yield {\n",
              "    response: {\n",
              "      action: 'complete',\n",
              "    }\n",
              "  };\n",
              "}\n",
              "\n",
              "scope.google = scope.google || {};\n",
              "scope.google.colab = scope.google.colab || {};\n",
              "scope.google.colab._files = {\n",
              "  _uploadFiles,\n",
              "  _uploadFilesContinue,\n",
              "};\n",
              "})(self);\n",
              "</script> "
            ]
          },
          "metadata": {}
        },
        {
          "output_type": "stream",
          "name": "stdout",
          "text": [
            "Saving MOV_0698.mp4 to MOV_0698.mp4\n",
            "file name: MOV_0698.mp4\n",
            "fullpath: /content/MOV_0698.mp4\n"
          ]
        }
      ],
      "source": [
        "#手元の動画をgoogle colabにupload\n",
        "\n",
        "from google.colab import files\n",
        "import os\n",
        "uploaded = files.upload()\n",
        "#uploadedは辞書型なのでファイル名を取り出し、絶対パスを取得してfullpathという変数を当てる\n",
        "for k in uploaded.keys():\n",
        "  print('file name:',k)\n",
        "fullpath=os.path.abspath(k)\n",
        "print('fullpath:',fullpath)"
      ]
    },
    {
      "cell_type": "markdown",
      "source": [
        "正解の肩外転角度を入力 スライダーバーで10度刻みに指定"
      ],
      "metadata": {
        "id": "_UiXHlOCJcgj"
      }
    },
    {
      "cell_type": "code",
      "source": [
        "true_angle = 120 #@param {type:\"slider\", min:0, max:180, step:10}\n"
      ],
      "metadata": {
        "id": "MIceQhx0Jbm7"
      },
      "execution_count": 3,
      "outputs": []
    },
    {
      "cell_type": "markdown",
      "source": [
        "保存ファイル名を指定"
      ],
      "metadata": {
        "id": "oWWSOMbMGATM"
      }
    },
    {
      "cell_type": "code",
      "source": [
        "movie_name= \"kusu1\"#@param {type:\"string\"}"
      ],
      "metadata": {
        "id": "2kTngsyqGEZs"
      },
      "execution_count": 15,
      "outputs": []
    },
    {
      "cell_type": "code",
      "source": [
        "cap = cv2.VideoCapture(fullpath) #動画の読み込み\n",
        "width = int(cap.get(cv2.CAP_PROP_FRAME_WIDTH)) #幅\n",
        "height = int(cap.get(cv2.CAP_PROP_FRAME_HEIGHT)) #高\n",
        "frame_rate = int(cap.get(cv2.CAP_PROP_FPS)) #FPS\n",
        "fourcc = cv2.VideoWriter_fourcc('m','p','4','v') #mp4出力\n",
        "out = cv2.VideoWriter('out.mp4', fourcc, frame_rate, (width, height))\n",
        "print('width:',width)\n",
        "print('height:',height)\n",
        "print('frame rate:',frame_rate)\n",
        "\n",
        "#3次元座標の角度計算の定義\n",
        "def calculate_3D_angle(a,b,c):\n",
        "    a = np.array(a) # First\n",
        "    b = np.array(b) # Mid\n",
        "    c = np.array(c) # End\n",
        "    #0がx座標　１がｙ座標　２がｚ座標\n",
        "    #ベクトルを定義 長さと内積からコサインを計算\n",
        "    vec_a=a-b\n",
        "    vec_c=c-b\n",
        "    len_vec_a=np.linalg.norm(vec_a)\n",
        "    len_vec_c=np.linalg.norm(vec_c)\n",
        "    inner_product=np.inner(vec_a, vec_c)\n",
        "    cos=inner_product/(len_vec_a*len_vec_c)\n",
        "    \n",
        "    #角度（ラジアン）の計算\n",
        "    rad=np.arccos(cos)\n",
        "    \n",
        "    #ラジアンから度数へ変換\n",
        "    angle=np.rad2deg(rad)\n",
        "        \n",
        "    return angle\n",
        "\n",
        "#2次元からの角度計算の定義\n",
        "def calculate_2D_angle(a,b,c):\n",
        "  a=np.array(a)#firtst\n",
        "  b=np.array(b)#second\n",
        "  c=np.array(c)#third\n",
        "  #[x,y,z]座標から[x,y]のみスライスしてベクトルを作成\n",
        "  vec_a=a[0:2]-b[0:2]\n",
        "  vec_c=c[0:2]-b[0:2]\n",
        "  len_vec_a=np.linalg.norm(vec_a)\n",
        "  len_vec_c=np.linalg.norm(vec_c)\n",
        "  inner_product=np.inner(vec_a, vec_c)\n",
        "  cos=inner_product/(len_vec_a*len_vec_c)\n",
        "    \n",
        "#角度（ラジアン）の計算\n",
        "  rad=np.arccos(cos)\n",
        "#ラジアンから度数へ変換\n",
        "  angle=np.rad2deg(rad)\n",
        "        \n",
        "  return angle\n"
      ],
      "metadata": {
        "id": "kpB8anVoGf4K",
        "outputId": "ecffa5fa-0590-4d72-b7ad-2f149dae6590",
        "colab": {
          "base_uri": "https://localhost:8080/"
        }
      },
      "execution_count": 5,
      "outputs": [
        {
          "output_type": "stream",
          "name": "stdout",
          "text": [
            "width: 540\n",
            "height: 960\n",
            "frame rate: 29\n"
          ]
        }
      ]
    },
    {
      "cell_type": "code",
      "source": [
        "#体軸からの肩の外転角度測定\n",
        "#3次元座標の角度計算の定義\n",
        "def calculate_3D_shoulder_angle(a,b,c,d,e):\n",
        "    a = np.array(a) # 右肘\n",
        "    b = np.array(b) # 右肩\n",
        "    c = np.array(c) # 左肩\n",
        "    #c1=[b[0], c[1],b[2]]#右肩のx, 左肩のy、右肩のzを取得\n",
        "    d = np.array(d) # 右股\n",
        "    e = np.array(e) # 左股\n",
        "    #0がx座標　１がｙ座標　２がｚ座標\n",
        "    #中点を定義\n",
        "    global shoulder_mid\n",
        "    shoulder_mid = (b+c)/2 #肩の中心座標\n",
        "    global hip_mid\n",
        "    hip_mid = (d+e)/2 #股関節の中心座標　world系では0になるはず\n",
        "    #ベクトルを定義 長さと内積からコサインを計算\n",
        "    vec_a=hip_mid-shoulder_mid #体軸のベクトル\n",
        "    vec_b=a-b\n",
        "    len_vec_a=np.linalg.norm(vec_a)\n",
        "    len_vec_b=np.linalg.norm(vec_b)\n",
        "    inner_product=np.inner(vec_a, vec_b)\n",
        "    cos=inner_product/(len_vec_a*len_vec_b)\n",
        "    \n",
        "    #角度（ラジアン）の計算\n",
        "    rad=np.arccos(cos)\n",
        "    \n",
        "    #ラジアンから度数へ変換\n",
        "    angle=np.rad2deg(rad)\n",
        "        \n",
        "    return angle\n",
        "\n",
        "#2次元からの角度計算の定義\n",
        "def calculate_2D_shoulder_angle(a,b,c,d,e):\n",
        "    a = np.array(a) # 右肘\n",
        "    b = np.array(b) # 右肩\n",
        "    c = np.array(c) # 左肩\n",
        "    #c1=[b[0], c[1],b[2]]#右肩のx, 左肩のy、右肩のzを取得\n",
        "    d = np.array(d) # 右股\n",
        "    e = np.array(e) # 左股\n",
        "    #0がx座標　１がｙ座標　２がｚ座標\n",
        "    #中点を定義\n",
        "    shoulder_mid = (b+c)/2 #肩の中心座標\n",
        "    hip_mid = (d+e)/2 #股関節の中心座標　world系では0になるはず\n",
        "  #[x,y,z]座標から[x,y]のみスライスしてベクトルを作成\n",
        "    vec_a=hip_mid[0:2]-shoulder_mid[0:2]#体軸のベクトル\n",
        "    vec_b=a[0:2]-b[0:2]\n",
        "    len_vec_a=np.linalg.norm(vec_a)\n",
        "    len_vec_b=np.linalg.norm(vec_b)\n",
        "    inner_product=np.inner(vec_a, vec_b)\n",
        "    cos=inner_product/(len_vec_a*len_vec_b)\n",
        "    \n",
        "#角度（ラジアン）の計算\n",
        "    rad=np.arccos(cos)\n",
        "#ラジアンから度数へ変換\n",
        "    angle=np.rad2deg(rad)\n",
        "        \n",
        "    return angle\n"
      ],
      "metadata": {
        "id": "PsaPB8GTg-2I"
      },
      "execution_count": 6,
      "outputs": []
    },
    {
      "cell_type": "markdown",
      "metadata": {
        "id": "O8b1g8OQXTyp"
      },
      "source": [
        "# サンプルビデオの読み込み＋静止画に分解"
      ]
    },
    {
      "cell_type": "code",
      "execution_count": 7,
      "metadata": {
        "id": "SZkGG8X4tB-e"
      },
      "outputs": [],
      "source": [
        "# video2images\n",
        "import os\n",
        "import shutil\n",
        "import cv2\n",
        "\n",
        "# 既にimagesフォルダーがあれば削除\n",
        "if os.path.isdir('images'):\n",
        "    shutil.rmtree('images')\n",
        "\n",
        "os.makedirs('images', exist_ok=True)\n",
        " \n",
        "def video_2_images(video_file= fullpath,   \n",
        "                   image_dir='./images/', \n",
        "                   image_file='%s.png'):\n",
        " \n",
        "    # Initial setting\n",
        "    i = 0\n",
        "    interval = 1#適宜調整\n",
        "    length = 3500\n",
        "    \n",
        "    cap = cv2.VideoCapture(video_file)\n",
        "    while(cap.isOpened()):\n",
        "        flag, frame = cap.read()  \n",
        "        if flag == False:  \n",
        "                break\n",
        "        if i == length*interval:\n",
        "                break\n",
        "        if i % interval == 0:    \n",
        "           cv2.imwrite(image_dir+image_file % str(int(i/interval)).zfill(6), frame)\n",
        "        i += 1 \n",
        "    cap.release()  \n",
        " \n",
        "def main():\n",
        "    video_2_images()\n",
        "    \n",
        "if __name__ == '__main__':\n",
        "    main()"
      ]
    },
    {
      "cell_type": "code",
      "execution_count": 8,
      "metadata": {
        "colab": {
          "base_uri": "https://localhost:8080/"
        },
        "id": "HTsoIhQEDZCl",
        "outputId": "f39e6678-adcd-4a5f-d562-30275f70fe3c"
      },
      "outputs": [
        {
          "output_type": "stream",
          "name": "stdout",
          "text": [
            "landmark list data type: <U27\n",
            "landmark list: [['NOSE_x' 'NOSE_y' 'NOSE_z' 'NOSE_visibility' 'LEFT_EYE_INNER_x'\n",
            "  'LEFT_EYE_INNER_y' 'LEFT_EYE_INNER_z' 'LEFT_EYE_INNER_visibility'\n",
            "  'LEFT_EYE_x' 'LEFT_EYE_y' 'LEFT_EYE_z' 'LEFT_EYE_visibility'\n",
            "  'LEFT_EYE_OUTER_x' 'LEFT_EYE_OUTER_y' 'LEFT_EYE_OUTER_z'\n",
            "  'LEFT_EYE_OUTER_visibility' 'RIGHT_EYE_INNER_x' 'RIGHT_EYE_INNER_y'\n",
            "  'RIGHT_EYE_INNER_z' 'RIGHT_EYE_INNER_visibility' 'RIGHT_EYE_x'\n",
            "  'RIGHT_EYE_y' 'RIGHT_EYE_z' 'RIGHT_EYE_visibility' 'RIGHT_EYE_OUTER_x'\n",
            "  'RIGHT_EYE_OUTER_y' 'RIGHT_EYE_OUTER_z' 'RIGHT_EYE_OUTER_visibility'\n",
            "  'LEFT_EAR_x' 'LEFT_EAR_y' 'LEFT_EAR_z' 'LEFT_EAR_visibility'\n",
            "  'RIGHT_EAR_x' 'RIGHT_EAR_y' 'RIGHT_EAR_z' 'RIGHT_EAR_visibility'\n",
            "  'MOUTH_LEFT_x' 'MOUTH_LEFT_y' 'MOUTH_LEFT_z' 'MOUTH_LEFT_visibility'\n",
            "  'MOUTH_RIGHT_x' 'MOUTH_RIGHT_y' 'MOUTH_RIGHT_z'\n",
            "  'MOUTH_RIGHT_visibility' 'LEFT_SHOULDER_x' 'LEFT_SHOULDER_y'\n",
            "  'LEFT_SHOULDER_z' 'LEFT_SHOULDER_visibility' 'RIGHT_SHOULDER_x'\n",
            "  'RIGHT_SHOULDER_y' 'RIGHT_SHOULDER_z' 'RIGHT_SHOULDER_visibility'\n",
            "  'LEFT_ELBOW_x' 'LEFT_ELBOW_y' 'LEFT_ELBOW_z' 'LEFT_ELBOW_visibility'\n",
            "  'RIGHT_ELBOW_x' 'RIGHT_ELBOW_y' 'RIGHT_ELBOW_z'\n",
            "  'RIGHT_ELBOW_visibility' 'LEFT_WRIST_x' 'LEFT_WRIST_y' 'LEFT_WRIST_z'\n",
            "  'LEFT_WRIST_visibility' 'RIGHT_WRIST_x' 'RIGHT_WRIST_y' 'RIGHT_WRIST_z'\n",
            "  'RIGHT_WRIST_visibility' 'LEFT_PINKY_x' 'LEFT_PINKY_y' 'LEFT_PINKY_z'\n",
            "  'LEFT_PINKY_visibility' 'RIGHT_PINKY_x' 'RIGHT_PINKY_y' 'RIGHT_PINKY_z'\n",
            "  'RIGHT_PINKY_visibility' 'LEFT_INDEX_x' 'LEFT_INDEX_y' 'LEFT_INDEX_z'\n",
            "  'LEFT_INDEX_visibility' 'RIGHT_INDEX_x' 'RIGHT_INDEX_y' 'RIGHT_INDEX_z'\n",
            "  'RIGHT_INDEX_visibility' 'LEFT_THUMB_x' 'LEFT_THUMB_y' 'LEFT_THUMB_z'\n",
            "  'LEFT_THUMB_visibility' 'RIGHT_THUMB_x' 'RIGHT_THUMB_y' 'RIGHT_THUMB_z'\n",
            "  'RIGHT_THUMB_visibility' 'LEFT_HIP_x' 'LEFT_HIP_y' 'LEFT_HIP_z'\n",
            "  'LEFT_HIP_visibility' 'RIGHT_HIP_x' 'RIGHT_HIP_y' 'RIGHT_HIP_z'\n",
            "  'RIGHT_HIP_visibility' 'LEFT_KNEE_x' 'LEFT_KNEE_y' 'LEFT_KNEE_z'\n",
            "  'LEFT_KNEE_visibility' 'RIGHT_KNEE_x' 'RIGHT_KNEE_y' 'RIGHT_KNEE_z'\n",
            "  'RIGHT_KNEE_visibility' 'LEFT_ANKLE_x' 'LEFT_ANKLE_y' 'LEFT_ANKLE_z'\n",
            "  'LEFT_ANKLE_visibility' 'RIGHT_ANKLE_x' 'RIGHT_ANKLE_y' 'RIGHT_ANKLE_z'\n",
            "  'RIGHT_ANKLE_visibility' 'LEFT_HEEL_x' 'LEFT_HEEL_y' 'LEFT_HEEL_z'\n",
            "  'LEFT_HEEL_visibility' 'RIGHT_HEEL_x' 'RIGHT_HEEL_y' 'RIGHT_HEEL_z'\n",
            "  'RIGHT_HEEL_visibility' 'LEFT_FOOT_INDEX_x' 'LEFT_FOOT_INDEX_y'\n",
            "  'LEFT_FOOT_INDEX_z' 'LEFT_FOOT_INDEX_visibility' 'RIGHT_FOOT_INDEX_x'\n",
            "  'RIGHT_FOOT_INDEX_y' 'RIGHT_FOOT_INDEX_z' 'RIGHT_FOOT_INDEX_visibility']]\n",
            "landmark list shape: (1, 132)\n"
          ]
        }
      ],
      "source": [
        "#pose_landmarkのリストを取得して配列に変換\n",
        "import numpy as np\n",
        "landmarklist=[]#空の配列を作成\n",
        "for index in range(len(mp_holistic.PoseLandmark)):\n",
        "    landmarklist.append(mp_holistic.PoseLandmark(index).name+'_x')\n",
        "    landmarklist.append(mp_holistic.PoseLandmark(index).name+'_y')\n",
        "    landmarklist.append(mp_holistic.PoseLandmark(index).name+'_z')\n",
        "    landmarklist.append(mp_holistic.PoseLandmark(index).name+'_visibility')\n",
        "#リストをarrayに変換\n",
        "landmarklist=np.array(landmarklist).reshape(1,-1)\n",
        "#landmarkshape の内容の確認\n",
        "print('landmark list data type:',landmarklist.dtype)\n",
        "print('landmark list:',landmarklist)\n",
        "print('landmark list shape:',landmarklist.shape)"
      ]
    },
    {
      "cell_type": "markdown",
      "metadata": {
        "id": "RFbsbDmFX22w"
      },
      "source": [
        "# MediaPipeで静止画を処理"
      ]
    },
    {
      "cell_type": "code",
      "execution_count": 11,
      "metadata": {
        "id": "Fs2IYWOGtCGj",
        "colab": {
          "base_uri": "https://localhost:8080/",
          "height": 54
        },
        "outputId": "5c225021-3901-437d-c08c-1f41ea1b1167"
      },
      "outputs": [
        {
          "output_type": "execute_result",
          "data": {
            "text/plain": [
              "\"#savetxtではデータの型が合わないと保存でき無いことがあるのでfmtで文字の型を指定\\n  np.savetxt('keypoint_results.csv',final_data,delimiter = ',',fmt = '%s')\""
            ],
            "application/vnd.google.colaboratory.intrinsic+json": {
              "type": "string"
            }
          },
          "metadata": {},
          "execution_count": 11
        }
      ],
      "source": [
        "import cv2\n",
        "from google.colab.patches import cv2_imshow\n",
        "import numpy as np\n",
        "import glob\n",
        "import time\n",
        "#変数の初期化\n",
        "rtelbowAnglelist=[]\n",
        "rtshoulderAnglelist=[]\n",
        "rtshoulderAbductionlist=[]\n",
        "rtelbow_3DAnglelist=[]\n",
        "rtshoulder_3DAnglelist=[]\n",
        "rtshoulder_3DAbductionlist=[]\n",
        "timelist=[]\n",
        "\n",
        "#各関節の3次元座標もリスト化する\n",
        "true_angle_list=[]\n",
        "nose_x_list=[]\n",
        "nose_y_list=[]\n",
        "nose_z_list=[]\n",
        "rtelbow_x_list=[]\n",
        "rtelbow_y_list=[]\n",
        "rtelbow_z_list=[]\n",
        "rtshoulder_x_list=[]\n",
        "rtshoulder_y_list=[]\n",
        "rtshoulder_z_list=[]\n",
        "ltshoulder_x_list=[]\n",
        "ltshoulder_y_list=[]\n",
        "ltshoulder_z_list=[]\n",
        "rthip_x_list=[]\n",
        "rthip_y_list=[]\n",
        "rthip_z_list=[]\n",
        "lthip_x_list=[]\n",
        "lthip_y_list=[]\n",
        "lthip_z_list=[]\n",
        "shoulderdist_ratiolist=[]\n",
        "trunkdist_ratiolist=[]\n",
        "armdist_ratiolist=[]\n",
        "data_land = np.zeros((0,132))\n",
        "\n",
        "# image file names to files in list format\n",
        "files=[]\n",
        "for name in sorted(glob.glob('./images/*.png')):\n",
        "    files.append(name)\n",
        "\n",
        "# Read images with OpenCV.\n",
        "images = {name: cv2.imread(name) for name in files}\n",
        "w = width             # 画像の横幅を取得\n",
        "h = height            # 画像の縦幅を取得\n",
        "\n",
        "for name, image in images.items():\n",
        "  # Convert the BGR image to RGB and process it with MediaPipe Pose.\n",
        "  if image is None:\n",
        "      break\n",
        "  results = pose.process(cv2.cvtColor(image, cv2.COLOR_BGR2RGB))\n",
        "  landmarks = results.pose_landmarks\n",
        "  if landmarks is None:\n",
        "      print('検出できなかったフレーム番号:',name)\n",
        "      continue\n",
        "   #各検出ポイントをarrayに変換\n",
        "  rtshoulder=[results.pose_landmarks.landmark[12].x,results.pose_landmarks.landmark[12].y,results.pose_landmarks.landmark[12].z]\n",
        "  rtelbow=[results.pose_landmarks.landmark[14].x,results.pose_landmarks.landmark[14].y,results.pose_landmarks.landmark[14].z]\n",
        "  rtwrist=[results.pose_landmarks.landmark[16].x,results.pose_landmarks.landmark[16].y,results.pose_landmarks.landmark[16].z]\n",
        "  rthip=[results.pose_landmarks.landmark[24].x,results.pose_landmarks.landmark[24].y,results.pose_landmarks.landmark[24].z]\n",
        "  ltshoulder=[results.pose_landmarks.landmark[11].x,results.pose_landmarks.landmark[11].y,results.pose_landmarks.landmark[11].z]\n",
        "  lthip=[results.pose_landmarks.landmark[23].x,results.pose_landmarks.landmark[23].y,results.pose_landmarks.landmark[23].z]\n",
        "  nose=[results.pose_landmarks.landmark[0].x,results.pose_landmarks.landmark[0].y,results.pose_landmarks.landmark[0].z]\n",
        "  midshoulder=(np.array(rtshoulder)+np.array(ltshoulder))/2\n",
        "  midhip=(np.array(rthip)+np.array(lthip))/2\n",
        "  #3D座標から角度を計算 2Dか3Dか選ぶ\n",
        "  #rtelbowAngleは右肩-右肘-右手関節\n",
        "  rtelbowAngle=180-calculate_2D_angle(rtshoulder,rtelbow,rtwrist)\n",
        "  rtelbow_3DAngle=180-calculate_3D_angle(rtshoulder,rtelbow,rtwrist)\n",
        "  #rtshoulderAngleは左肩-右肩-右肘\n",
        "  rtshoulderAngle=calculate_2D_angle(ltshoulder,rtshoulder,rtelbow)\n",
        "  rtshoulder_3DAngle=calculate_3D_angle(ltshoulder,rtshoulder,rtelbow)\n",
        "  #rtshoulderAbductionは体軸ベクトル（両肩中心と両股中心を結ぶ線と右肩-右肘ベクトル）\n",
        "  rtshoulderAbduction=calculate_2D_shoulder_angle(rtelbow,rtshoulder,ltshoulder, rthip, lthip)\n",
        "  rtshoulder_3DAbduction=calculate_3D_shoulder_angle(rtelbow,rtshoulder,ltshoulder, rthip, lthip)\n",
        "  #2点間の距離を計算\n",
        "  hipdist=np.linalg.norm(np.array(rthip)-np.array(lthip))\n",
        "  shoulderdist=np.linalg.norm(np.array(rtshoulder)-np.array(ltshoulder))\n",
        "  trunkdist=np.linalg.norm(np.array(rtshoulder)-np.array(rthip))\n",
        "  armdist=np.linalg.norm(np.array(rtelbow)-np.array(rtshoulder))\n",
        "  #股関節の距離を基準に距離の比を計算してパラメーターとする\n",
        "  shoulderdist_ratio=shoulderdist/hipdist\n",
        "  trunkdist_ratio=trunkdist/hipdist\n",
        "  armdist_ratio=armdist/hipdist\n",
        "  #角度情報をテキストして画像に挿入\n",
        "  cv2.putText(image, 'rtElbow'+str(round(rtelbowAngle,1)),\n",
        "              (200,400),\n",
        "              #tuple(np.multiply(rtelbow[:2],[w, h]).astype(int)),\n",
        "              cv2.FONT_HERSHEY_SIMPLEX,0.5,(55,50,250),1,cv2.LINE_AA)\n",
        "\n",
        "  cv2.putText(image, 'rtshoulderAbd'+str(round(rtshoulderAbduction,1)),\n",
        "              (200,350),\n",
        "              #tuple(np.multiply(rtshoulder[:2],[w, h]).astype(int)),\n",
        "              cv2.FONT_HERSHEY_SIMPLEX,0.5,(55,50,250),1,cv2.LINE_AA)\n",
        "  cv2.putText(image, 'rtshoulderAngle'+str(round(rtshoulderAngle,1)),\n",
        "              (200,300),\n",
        "              #tuple(np.multiply(rtshoulder[:2],[w, h]).astype(int)),\n",
        "              cv2.FONT_HERSHEY_SIMPLEX,0.5,(55,50,250),1,cv2.LINE_AA)\n",
        "  \n",
        "  cv2.putText(image, 'rtElbow3D_'+str(round(rtelbow_3DAngle,1)),\n",
        "              (400,400),\n",
        "              #tuple(np.multiply(rtelbow[:2],[w, h]).astype(int)),\n",
        "              cv2.FONT_HERSHEY_SIMPLEX,0.5,(255,0,250),1,cv2.LINE_AA)\n",
        "\n",
        "  cv2.putText(image, 'rtShoulderAbd_3D_'+str(round(rtshoulder_3DAbduction,1)),\n",
        "              (400,350),\n",
        "              #tuple(np.multiply(rtshoulder[:2],[w, h]).astype(int)),\n",
        "              cv2.FONT_HERSHEY_SIMPLEX,0.5,(255,0,250),1,cv2.LINE_AA)\n",
        "  cv2.putText(image, 'rtshoulderAngle_3D_'+str(round(rtshoulder_3DAngle,1)),\n",
        "              (400,300),\n",
        "              #tuple(np.multiply(rtshoulder[:2],[w, h]).astype(int)),\n",
        "              cv2.FONT_HERSHEY_SIMPLEX,0.5,(255,0,250),1,cv2.LINE_AA)\n",
        "  cv2.line(image,\n",
        "         pt1=(int(round(midshoulder[0]*w)), int(round(midshoulder[1]*h))),\n",
        "         pt2=(int(round(midhip[0]*w)), int(round(midhip[1]*h))),\n",
        "         color=(0, 255,0),\n",
        "         thickness=3,\n",
        "         lineType=cv2.LINE_4,\n",
        "         shift=0) \n",
        "        \n",
        "  rtelbowAnglelist.append(rtelbowAngle)\n",
        "  rtshoulderAnglelist.append(rtshoulderAngle)  \n",
        "  rtshoulderAbductionlist.append(rtshoulderAbduction)\n",
        "  rtelbow_3DAnglelist.append(rtelbow_3DAngle)\n",
        "  rtshoulder_3DAnglelist.append(rtshoulder_3DAngle)  \n",
        "  rtshoulder_3DAbductionlist.append(rtshoulder_3DAbduction)\n",
        "  true_angle_list.append(true_angle)\n",
        "  nose_x_list.append(nose[0])\n",
        "  nose_y_list.append(nose[1])\n",
        "  nose_z_list.append(nose[1])\n",
        "  rtelbow_x_list.append(rtelbow[0])\n",
        "  rtelbow_y_list.append(rtelbow[1])\n",
        "  rtelbow_z_list.append(rtelbow[2])\n",
        "  rtshoulder_x_list.append(rtshoulder[0])\n",
        "  rtshoulder_y_list.append(rtshoulder[1])\n",
        "  rtshoulder_z_list.append(rtshoulder[2])\n",
        "  ltshoulder_x_list.append(ltshoulder[0])\n",
        "  ltshoulder_y_list.append(ltshoulder[1])\n",
        "  ltshoulder_z_list.append(ltshoulder[2])\n",
        "  rthip_x_list.append(rthip[0])\n",
        "  rthip_y_list.append(rthip[1])\n",
        "  rthip_z_list.append(rthip[2])\n",
        "  lthip_x_list.append(lthip[0])\n",
        "  lthip_y_list.append(lthip[1])\n",
        "  lthip_z_list.append(lthip[2])\n",
        "  \n",
        "  shoulderdist_ratiolist.append(shoulderdist_ratio)\n",
        "  trunkdist_ratiolist.append(trunkdist_ratio)\n",
        "  armdist_ratiolist.append(armdist_ratio)\n",
        "\n",
        "  timelist.append(time.time())\n",
        "  # Draw pose landmarks.\n",
        "  annotated_image = image.copy()\n",
        "  # Get Landmarks\n",
        "  #landmarks=results.pose_landmarks.landmark\n",
        " \n",
        "  \"\"\"\n",
        "  Holisticを使用しない場合はこの部分をコメントアウト\n",
        "  \n",
        "  mp_drawing.draw_landmarks(annotated_image, results.left_hand_landmarks, mp_holistic.HAND_CONNECTIONS)\n",
        "  mp_drawing.draw_landmarks(annotated_image, results.right_hand_landmarks, mp_holistic.HAND_CONNECTIONS)\n",
        "  mp_drawing.draw_landmarks(\n",
        "      image=annotated_image, \n",
        "      landmark_list=results.face_landmarks, \n",
        "      connections=mp_holistic.FACEMESH_TESSELATION,\n",
        "      landmark_drawing_spec=drawing_spec,\n",
        "      connection_drawing_spec=drawing_spec)\n",
        "  \"\"\"\n",
        "  mp_drawing.draw_landmarks(\n",
        "        image=annotated_image, \n",
        "        landmark_list=results.pose_landmarks, \n",
        "        connections=mp_pose.POSE_CONNECTIONS,\n",
        "        landmark_drawing_spec=drawing_spec,\n",
        "        connection_drawing_spec=drawing_spec)\n",
        "  \"\"\"\n",
        "  #get coordinate poseの33か所の3次元座標データと確信度(visibilisty)をすべて結合してCSVに変換\n",
        "  data_land2 = np.zeros((1,3))\n",
        "    \n",
        "  for x in range (0,33):#pose_landmarksかpose_world_landmarksか選ぶ\n",
        "      data1 = results.pose_landmarks.landmark[x].x\n",
        "      data2 = results.pose_landmarks.landmark[x].y\n",
        "      data3 = results.pose_landmarks.landmark[x].z\n",
        "      data4 = results.pose_landmarks.landmark[x].visibility\n",
        "      keydata = np.hstack((data1,data2,data3,data4)).reshape(1,-1)\n",
        "      data_land2 = np.hstack((data_land2,keydata))\n",
        "\n",
        "  data_land2 = data_land2[:,3:]\n",
        "  data_land = np.vstack((data_land,data_land2))\n",
        "  final_data= np.vstack((landmarklist,data_land))\n",
        "  \"\"\"\n",
        "  cv2.imwrite(name, annotated_image)  \n",
        "\n",
        "\"\"\"#savetxtではデータの型が合わないと保存でき無いことがあるのでfmtで文字の型を指定\n",
        "  np.savetxt('keypoint_results.csv',final_data,delimiter = ',',fmt = '%s')\"\"\"\n"
      ]
    },
    {
      "cell_type": "markdown",
      "source": [
        "# 角度のグラフ表示とデータのCSV保存"
      ],
      "metadata": {
        "id": "gaXlYqwKNB7v"
      }
    },
    {
      "cell_type": "code",
      "source": [
        "from matplotlib import pyplot as plt\n",
        "#combine Anglelist arrayにして水平結合\n",
        "#timelistの開始数字を0に変更\n",
        "np.array(timelist[0])\n",
        "d=np.full(len(timelist),timelist[0])#すべての要素がtimelistの１番目の値でlen(timelist)の行列を作成\n",
        "#timelistの時間を初期化（1番目の要素を0として行列の引き算\n",
        "deltatime=np.array(timelist)-np.full(len(timelist),timelist[0])\n",
        "true_angle_list=np.array(true_angle_list)\n",
        "a=np.array(rtelbowAnglelist)\n",
        "b=np.array(rtshoulderAnglelist)\n",
        "c=np.array(rtshoulderAbductionlist)\n",
        "a1=np.array(rtelbow_3DAnglelist)\n",
        "b1=np.array(rtshoulder_3DAnglelist)\n",
        "c1=np.array(rtshoulder_3DAbductionlist)\n",
        "\n",
        "a2=np.array(nose_x_list)\n",
        "b2=np.array(nose_y_list)\n",
        "c2=np.array(nose_z_list)\n",
        "a3=np.array(rtelbow_x_list)\n",
        "b3=np.array(rtelbow_y_list)\n",
        "c3=np.array(rtelbow_z_list)\n",
        "a4=np.array(rtshoulder_x_list)\n",
        "b4=np.array(rtshoulder_y_list)\n",
        "c4=np.array(rtshoulder_z_list)\n",
        "a5=np.array(ltshoulder_x_list)\n",
        "b5=np.array(ltshoulder_y_list)\n",
        "c5=np.array(ltshoulder_z_list)\n",
        "a6=np.array(rthip_x_list)\n",
        "b6=np.array(rthip_y_list)\n",
        "c6=np.array(rthip_z_list)\n",
        "a7=np.array(lthip_x_list)\n",
        "b7=np.array(lthip_y_list)\n",
        "c7=np.array(lthip_z_list)\n",
        "\n",
        "a8=np.array(shoulderdist_ratiolist)\n",
        "b8=np.array(trunkdist_ratiolist)\n",
        "c8=np.array(armdist_ratiolist)\n",
        "\n",
        "# 1つ目のプロット\n",
        "plt.subplot(1,2,1)\n",
        "plt.plot(deltatime,b, label='shoulder angle')\n",
        "plt.plot(deltatime,b1, label='shoulder 3D angle')\n",
        "plt.legend()\n",
        "#2つ目のプロット\n",
        "plt.subplot(1,2,2)\n",
        "plt.plot(deltatime,c, label='shoulder Abduction')\n",
        "plt.plot(deltatime,c1, label='shoulder 3D Abduction')\n",
        "plt.legend()\n",
        "\n",
        "plt.show() \n",
        "#角度データをAngle＿Results.CSVとして保存\n",
        "name=['true_angle', 'shoulder_angle', 'shoulder_Abduction',\n",
        "      'shoulder_3D_angle','shoulder_3D_Abduction',\n",
        "      'nose_x','nose_y','nose_z', 'rtelbow_x','rtelbow_y','rtelbow_z',\n",
        "      'rtshoulder_x','rtshoulder_y','rtshoulder_z','ltshoulder_x','ltshoulder_y','ltshoulder_z',\n",
        "      'rthip_x','rthip_y','rthip_z','lthip_x','lthip_y','lthip_z',\n",
        "      'shoulderdist_ratio','tunkdist_ratio','armdist_ratio']\n",
        "data=np.stack((true_angle_list,b,c,b1,c1,a2,b2,c2,a3,b3,c3,a4,b4,c4,a5,b5,c5,a6,b6,c6,a7,b7,c7,a8,b8,c8)).T\n",
        "data=np.vstack((name,data))\n",
        "\n",
        "filename = movie_name+ '_results'+ '.csv'\n",
        "np.savetxt(filename,data,delimiter = ',',fmt = '%s')"
      ],
      "metadata": {
        "colab": {
          "base_uri": "https://localhost:8080/",
          "height": 267
        },
        "id": "vhtuzjLp5_vm",
        "outputId": "611b008a-ad09-4ed9-9ed2-e4d45cbb2091"
      },
      "execution_count": 16,
      "outputs": [
        {
          "output_type": "display_data",
          "data": {
            "text/plain": [
              "<Figure size 432x288 with 2 Axes>"
            ],
            "image/png": "[encoded data removed]"
          },
          "metadata": {
            "needs_background": "light"
          }
        }
      ]
    },
    {
      "cell_type": "markdown",
      "metadata": {
        "id": "Xth7qTogKjmE"
      },
      "source": [
        "# 処理した画像をmp4動画に変換\n"
      ]
    },
    {
      "cell_type": "code",
      "execution_count": null,
      "metadata": {
        "id": "fOyDbsFjKp2S"
      },
      "outputs": [],
      "source": [
        "# 既に output.mp4 があれば削除\n",
        "import os\n",
        "if os.path.exists('./output.mp4'):\n",
        "   os.remove('./output.mp4')\n",
        "\n",
        "! ffmpeg -r 10 -i images/%6d.png\\\n",
        "               -vcodec libx264 -pix_fmt yuv420p output.mp4"
      ]
    },
    {
      "cell_type": "code",
      "execution_count": null,
      "metadata": {
        "id": "1grd4PeRLFgO"
      },
      "outputs": [],
      "source": [
        "# --- mp4動画の再生 ---\n",
        "from IPython.display import HTML\n",
        "from base64 import b64encode\n",
        "\n",
        "mp4 = open('./output.mp4', 'rb').read()\n",
        "data_url = 'data:video/mp4;base64,' + b64encode(mp4).decode()\n",
        "HTML(f\"\"\"\n",
        "<video width=\"85%\" height=\"85%\" controls>\n",
        "      <source src=\"{data_url}\" type=\"video/mp4\">\n",
        "</video>\"\"\")"
      ]
    },
    {
      "cell_type": "markdown",
      "metadata": {
        "id": "PpKEWxXpL4w9"
      },
      "source": [
        "＊作成したmp4動画は、左側のファイル欄にある　./mediapipe/output.mp4 を右クリックするとダウンロードできます。"
      ]
    }
  ],
  "metadata": {
    "colab": {
      "collapsed_sections": [],
      "provenance": [],
      "include_colab_link": true
    },
    "kernelspec": {
      "display_name": "Python 3",
      "language": "python",
      "name": "python3"
    },
    "language_info": {
      "codemirror_mode": {
        "name": "ipython",
        "version": 3
      },
      "file_extension": ".py",
      "mimetype": "text/x-python",
      "name": "python",
      "nbconvert_exporter": "python",
      "pygments_lexer": "ipython3",
      "version": "3.7.9"
    }
  },
  "nbformat": 4,
  "nbformat_minor": 0
}